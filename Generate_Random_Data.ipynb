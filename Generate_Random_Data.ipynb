{
 "cells": [
  {
   "cell_type": "markdown",
   "id": "466c34a0",
   "metadata": {},
   "source": [
    "## Generate A Random Regression Data"
   ]
  },
  {
   "cell_type": "code",
   "execution_count": 1,
   "id": "2fd50fa2",
   "metadata": {},
   "outputs": [],
   "source": [
    "# import make_regression\n",
    "from sklearn.datasets import make_regression\n",
    "X,Y=make_regression(n_samples=5,n_features=2)"
   ]
  },
  {
   "cell_type": "code",
   "execution_count": 2,
   "id": "325d5cef",
   "metadata": {},
   "outputs": [
    {
     "data": {
      "text/plain": [
       "array([[ 1.18227534, -1.39699803],\n",
       "       [-0.19773231,  0.85819274],\n",
       "       [-0.79877605,  0.34261705],\n",
       "       [-0.8271295 , -1.06911402],\n",
       "       [ 0.50252906, -0.34406663]])"
      ]
     },
     "execution_count": 2,
     "metadata": {},
     "output_type": "execute_result"
    }
   ],
   "source": [
    "# X stores the independent features\n",
    "X"
   ]
  },
  {
   "cell_type": "code",
   "execution_count": 3,
   "id": "dfc090e8",
   "metadata": {},
   "outputs": [
    {
     "data": {
      "text/plain": [
       "array([ -69.30407433,   62.960749  ,   -2.62831052, -119.83838564,\n",
       "         -8.91722401])"
      ]
     },
     "execution_count": 3,
     "metadata": {},
     "output_type": "execute_result"
    }
   ],
   "source": [
    "# Y stores the dependent features\n",
    "Y"
   ]
  },
  {
   "cell_type": "markdown",
   "id": "80ff01fc",
   "metadata": {},
   "source": [
    "Official Document: https://scikit-learn.org/stable/modules/generated/sklearn.datasets.make_regression.html"
   ]
  },
  {
   "cell_type": "markdown",
   "id": "abdc5f18",
   "metadata": {},
   "source": [
    "."
   ]
  },
  {
   "cell_type": "markdown",
   "id": "de4edf47",
   "metadata": {},
   "source": [
    "."
   ]
  },
  {
   "cell_type": "markdown",
   "id": "078146d6",
   "metadata": {},
   "source": [
    "."
   ]
  },
  {
   "cell_type": "markdown",
   "id": "71345c15",
   "metadata": {},
   "source": [
    "."
   ]
  },
  {
   "cell_type": "markdown",
   "id": "7c11addf",
   "metadata": {},
   "source": [
    "."
   ]
  },
  {
   "cell_type": "markdown",
   "id": "27db1d64",
   "metadata": {},
   "source": [
    "."
   ]
  },
  {
   "cell_type": "markdown",
   "id": "d7929aae",
   "metadata": {},
   "source": [
    "."
   ]
  },
  {
   "cell_type": "markdown",
   "id": "b0c9570e",
   "metadata": {},
   "source": [
    "## Generate A Random Classification Data"
   ]
  },
  {
   "cell_type": "code",
   "execution_count": 4,
   "id": "2362c9f3",
   "metadata": {},
   "outputs": [],
   "source": [
    "# import make_classification\n",
    "from sklearn.datasets import make_classification\n",
    "X,Y=make_classification(n_samples=7,n_features=4)"
   ]
  },
  {
   "cell_type": "code",
   "execution_count": 5,
   "id": "ea7529d9",
   "metadata": {},
   "outputs": [
    {
     "data": {
      "text/plain": [
       "array([[ 0.03668604, -1.12787049,  1.51736332, -0.41330564],\n",
       "       [-2.54154131,  0.25301691, -0.87328914, -2.69931628],\n",
       "       [ 1.34066847, -0.53733711,  1.00123906,  1.26141956],\n",
       "       [ 1.05657694,  0.22168625, -0.07446831,  1.25366674],\n",
       "       [-0.07340598, -0.71586523,  0.94273887, -0.36889288],\n",
       "       [ 0.22403015,  1.50757465, -1.97075133,  0.85340194],\n",
       "       [-1.47253708,  0.24362487, -0.63584675, -1.52491507]])"
      ]
     },
     "execution_count": 5,
     "metadata": {},
     "output_type": "execute_result"
    }
   ],
   "source": [
    "# X stores the independent features\n",
    "X"
   ]
  },
  {
   "cell_type": "code",
   "execution_count": 6,
   "id": "db743353",
   "metadata": {},
   "outputs": [
    {
     "data": {
      "text/plain": [
       "array([0, 0, 1, 1, 0, 1, 0])"
      ]
     },
     "execution_count": 6,
     "metadata": {},
     "output_type": "execute_result"
    }
   ],
   "source": [
    "# Y stores the dependent features\n",
    "Y"
   ]
  },
  {
   "cell_type": "markdown",
   "id": "fe62abb0",
   "metadata": {},
   "source": [
    "Official Document: https://scikit-learn.org/stable/modules/generated/sklearn.datasets.make_classification.html"
   ]
  }
 ],
 "metadata": {
  "kernelspec": {
   "display_name": "Python 3 (ipykernel)",
   "language": "python",
   "name": "python3"
  },
  "language_info": {
   "codemirror_mode": {
    "name": "ipython",
    "version": 3
   },
   "file_extension": ".py",
   "mimetype": "text/x-python",
   "name": "python",
   "nbconvert_exporter": "python",
   "pygments_lexer": "ipython3",
   "version": "3.8.8"
  }
 },
 "nbformat": 4,
 "nbformat_minor": 5
}
